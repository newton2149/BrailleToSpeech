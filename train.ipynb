{
 "cells": [
  {
   "cell_type": "code",
   "execution_count": 1,
   "id": "115224b2",
   "metadata": {},
   "outputs": [],
   "source": [
    "import tensorflow as tf\n",
    "from tensorflow.keras.utils import image_dataset_from_directory\n",
    "from tensorflow.keras.models import Sequential\n",
    "from tensorflow.keras import layers"
   ]
  },
  {
   "cell_type": "code",
   "execution_count": 2,
   "id": "0c998363",
   "metadata": {},
   "outputs": [],
   "source": [
    "train_dir = './dataset/train/'\n",
    "test_dir = './dataset/test/'\n",
    "\n",
    "BATCH_SIZE = 32\n",
    "IMG_SIZE = (224,224)"
   ]
  },
  {
   "cell_type": "code",
   "execution_count": 3,
   "id": "0dea7bc0",
   "metadata": {},
   "outputs": [
    {
     "name": "stdout",
     "output_type": "stream",
     "text": [
      "Found 1248 files belonging to 26 classes.\n",
      "Found 1247 files belonging to 26 classes.\n"
     ]
    }
   ],
   "source": [
    "train_data = image_dataset_from_directory(train_dir,\n",
    "                                          seed=42,\n",
    "                                          batch_size=BATCH_SIZE,\n",
    "                                          label_mode='categorical',\n",
    "                                          image_size=IMG_SIZE)\n",
    "\n",
    "test_data = image_dataset_from_directory(test_dir,\n",
    "                                          seed=42,\n",
    "                                          batch_size=BATCH_SIZE,\n",
    "                                          label_mode='categorical',\n",
    "                                          image_size=IMG_SIZE)"
   ]
  },
  {
   "cell_type": "code",
   "execution_count": 4,
   "id": "67f5a755",
   "metadata": {},
   "outputs": [],
   "source": [
    "data_augmentation = Sequential([\n",
    "    layers.RandomFlip('horizontal'),\n",
    "    layers.RandomRotation(0.2),\n",
    "    layers.RandomHeight(0.2),\n",
    "    layers.RandomWidth(0.2),\n",
    "    layers.RandomZoom(0.2)\n",
    "],name='data_augmentation')"
   ]
  },
  {
   "cell_type": "code",
   "execution_count": 5,
   "id": "631b0d76",
   "metadata": {},
   "outputs": [],
   "source": [
    "checkpoint_path = \"./weights/\"\n",
    "checkpoint_callback = tf.keras.callbacks.ModelCheckpoint(checkpoint_path,\n",
    "                                                         save_weights_only=True,\n",
    "                                                         save_best_only=True,\n",
    "                                                         monitor='val_accuracy'                                                             \n",
    "                                                        )"
   ]
  },
  {
   "cell_type": "code",
   "execution_count": 6,
   "id": "4e222251",
   "metadata": {},
   "outputs": [
    {
     "name": "stdout",
     "output_type": "stream",
     "text": [
      "Epoch 1/5\n",
      " 6/39 [===>..........................] - ETA: 15s - loss: 3.3109 - accuracy: 0.0260 "
     ]
    },
    {
     "name": "stderr",
     "output_type": "stream",
     "text": [
      "2022-08-10 20:59:27.553591: W tensorflow/core/common_runtime/bfc_allocator.cc:290] Allocator (GPU_0_bfc) ran out of memory trying to allocate 1.53GiB with freed_by_count=0. The caller indicates that this is not a failure, but this may mean that there could be performance gains if more memory were available.\n",
      "2022-08-10 20:59:27.553622: W tensorflow/core/common_runtime/bfc_allocator.cc:290] Allocator (GPU_0_bfc) ran out of memory trying to allocate 1.53GiB with freed_by_count=0. The caller indicates that this is not a failure, but this may mean that there could be performance gains if more memory were available.\n"
     ]
    },
    {
     "name": "stdout",
     "output_type": "stream",
     "text": [
      " 8/39 [=====>........................] - ETA: 16s - loss: 3.3208 - accuracy: 0.0312"
     ]
    },
    {
     "name": "stderr",
     "output_type": "stream",
     "text": [
      "2022-08-10 20:59:28.806687: W tensorflow/core/common_runtime/bfc_allocator.cc:290] Allocator (GPU_0_bfc) ran out of memory trying to allocate 1.53GiB with freed_by_count=0. The caller indicates that this is not a failure, but this may mean that there could be performance gains if more memory were available.\n",
      "2022-08-10 20:59:28.806719: W tensorflow/core/common_runtime/bfc_allocator.cc:290] Allocator (GPU_0_bfc) ran out of memory trying to allocate 1.53GiB with freed_by_count=0. The caller indicates that this is not a failure, but this may mean that there could be performance gains if more memory were available.\n"
     ]
    },
    {
     "name": "stdout",
     "output_type": "stream",
     "text": [
      "12/39 [========>.....................] - ETA: 14s - loss: 3.2929 - accuracy: 0.0469"
     ]
    },
    {
     "name": "stderr",
     "output_type": "stream",
     "text": [
      "2022-08-10 20:59:30.949457: W tensorflow/core/common_runtime/bfc_allocator.cc:290] Allocator (GPU_0_bfc) ran out of memory trying to allocate 1.53GiB with freed_by_count=0. The caller indicates that this is not a failure, but this may mean that there could be performance gains if more memory were available.\n",
      "2022-08-10 20:59:30.949487: W tensorflow/core/common_runtime/bfc_allocator.cc:290] Allocator (GPU_0_bfc) ran out of memory trying to allocate 1.53GiB with freed_by_count=0. The caller indicates that this is not a failure, but this may mean that there could be performance gains if more memory were available.\n"
     ]
    },
    {
     "name": "stdout",
     "output_type": "stream",
     "text": [
      "15/39 [==========>...................] - ETA: 12s - loss: 3.2769 - accuracy: 0.0625"
     ]
    },
    {
     "name": "stderr",
     "output_type": "stream",
     "text": [
      "2022-08-10 20:59:32.438761: W tensorflow/core/common_runtime/bfc_allocator.cc:290] Allocator (GPU_0_bfc) ran out of memory trying to allocate 1.53GiB with freed_by_count=0. The caller indicates that this is not a failure, but this may mean that there could be performance gains if more memory were available.\n",
      "2022-08-10 20:59:32.438793: W tensorflow/core/common_runtime/bfc_allocator.cc:290] Allocator (GPU_0_bfc) ran out of memory trying to allocate 1.53GiB with freed_by_count=0. The caller indicates that this is not a failure, but this may mean that there could be performance gains if more memory were available.\n"
     ]
    },
    {
     "name": "stdout",
     "output_type": "stream",
     "text": [
      "19/39 [=============>................] - ETA: 10s - loss: 3.2418 - accuracy: 0.0757"
     ]
    },
    {
     "name": "stderr",
     "output_type": "stream",
     "text": [
      "2022-08-10 20:59:34.384737: W tensorflow/core/common_runtime/bfc_allocator.cc:290] Allocator (GPU_0_bfc) ran out of memory trying to allocate 1.53GiB with freed_by_count=0. The caller indicates that this is not a failure, but this may mean that there could be performance gains if more memory were available.\n",
      "2022-08-10 20:59:34.384764: W tensorflow/core/common_runtime/bfc_allocator.cc:290] Allocator (GPU_0_bfc) ran out of memory trying to allocate 1.53GiB with freed_by_count=0. The caller indicates that this is not a failure, but this may mean that there could be performance gains if more memory were available.\n"
     ]
    },
    {
     "name": "stdout",
     "output_type": "stream",
     "text": [
      "39/39 [==============================] - 23s 468ms/step - loss: 3.1230 - accuracy: 0.1018 - val_loss: 3.0001 - val_accuracy: 0.1375\n",
      "Epoch 2/5\n",
      "39/39 [==============================] - 14s 348ms/step - loss: 2.7417 - accuracy: 0.2179 - val_loss: 2.6997 - val_accuracy: 0.2000\n",
      "Epoch 3/5\n",
      "39/39 [==============================] - 13s 329ms/step - loss: 2.4992 - accuracy: 0.2869 - val_loss: 2.5071 - val_accuracy: 0.2313\n",
      "Epoch 4/5\n",
      "39/39 [==============================] - 13s 323ms/step - loss: 2.3369 - accuracy: 0.3438 - val_loss: 2.3330 - val_accuracy: 0.3187\n",
      "Epoch 5/5\n",
      "39/39 [==============================] - 11s 266ms/step - loss: 2.1826 - accuracy: 0.4103 - val_loss: 2.1525 - val_accuracy: 0.3875\n"
     ]
    }
   ],
   "source": [
    "base_model = tf.keras.applications.EfficientNetB0(include_top=False)\n",
    "base_model.trainable = False\n",
    "\n",
    "inputs = layers.Input(shape=(224,224,3),name=\"Input Layer\")\n",
    "z = data_augmentation(inputs)\n",
    "z = base_model(z,training=False)\n",
    "z = layers.GlobalAveragePooling2D()(z)\n",
    "outputs = layers.Dense(len(train_data.class_names),activation=\"softmax\",name=\"output\")(z)\n",
    "model = tf.keras.Model(inputs,outputs)\n",
    "\n",
    "model.compile(loss='categorical_crossentropy',\n",
    "              optimizer = tf.keras.optimizers.Adam(),\n",
    "              metrics=['accuracy'])\n",
    "history = model.fit(train_data,epochs=5,\n",
    "          steps_per_epoch=len(train_data),\n",
    "          validation_data=test_data,\n",
    "          validation_steps=int(0.15 * len(test_data)),\n",
    "          callbacks=[checkpoint_callback]\n",
    "         )"
   ]
  },
  {
   "cell_type": "code",
   "execution_count": 7,
   "id": "54d37b9d",
   "metadata": {},
   "outputs": [],
   "source": [
    "base_model.trainable = True\n",
    "\n",
    "for layers in base_model.layers[:-20]:\n",
    "    layers.trainable = False\n",
    "\n",
    "    "
   ]
  },
  {
   "cell_type": "code",
   "execution_count": 8,
   "id": "c50f8be2",
   "metadata": {},
   "outputs": [
    {
     "name": "stdout",
     "output_type": "stream",
     "text": [
      "Epoch 5/10\n",
      "39/39 [==============================] - 17s 338ms/step - loss: 1.7483 - accuracy: 0.4535 - val_loss: 1.3008 - val_accuracy: 0.6313\n",
      "Epoch 6/10\n",
      "39/39 [==============================] - 12s 294ms/step - loss: 1.0996 - accuracy: 0.6514 - val_loss: 0.6747 - val_accuracy: 0.7812\n",
      "Epoch 7/10\n",
      "39/39 [==============================] - 9s 241ms/step - loss: 0.7902 - accuracy: 0.7420 - val_loss: 0.4467 - val_accuracy: 0.8438\n",
      "Epoch 8/10\n",
      "39/39 [==============================] - 10s 244ms/step - loss: 0.6210 - accuracy: 0.7853 - val_loss: 0.3154 - val_accuracy: 0.9062\n",
      "Epoch 9/10\n",
      "39/39 [==============================] - 9s 226ms/step - loss: 0.5135 - accuracy: 0.8149 - val_loss: 0.3885 - val_accuracy: 0.8625\n",
      "Epoch 10/10\n",
      "39/39 [==============================] - 9s 242ms/step - loss: 0.3699 - accuracy: 0.8870 - val_loss: 0.2087 - val_accuracy: 0.9125\n"
     ]
    }
   ],
   "source": [
    "model.compile(loss='categorical_crossentropy',\n",
    "              optimizer = tf.keras.optimizers.Adam(),\n",
    "              metrics=['accuracy'])\n",
    "history_fine_tune = model.fit(train_data,initial_epoch=history.epoch[-1],epochs=10,\n",
    "          steps_per_epoch=len(train_data),\n",
    "          validation_data=test_data,\n",
    "          validation_steps=int(0.15 * len(test_data)),callbacks=[checkpoint_callback]\n",
    "                              \n",
    "                             \n",
    "         )"
   ]
  },
  {
   "cell_type": "code",
   "execution_count": 9,
   "id": "cabdb2f5",
   "metadata": {},
   "outputs": [],
   "source": []
  },
  {
   "cell_type": "code",
   "execution_count": 16,
   "id": "4395db69",
   "metadata": {},
   "outputs": [],
   "source": [
    "def pred_and_plot(model,filename, train_data):\n",
    "    import matplotlib.pyplot as plt\n",
    "    img = load_and_prep_img(filename)\n",
    "    \n",
    "    pred = model.predict(tf.expand_dims(img,axis=0))\n",
    "    \n",
    "    if(len(pred[0]) > 1):\n",
    "        pred_class = train_data.class_names[tf.argmax(pred[0])]\n",
    "    else:\n",
    "        pred_class = train_data.class_names[int(tf.round(pred[0]))]\n",
    "        \n",
    "    \n",
    "    \n",
    "    \n",
    "    plt.imshow(img.astype('uint8'))\n",
    "    plt.title(f\"Prediction: {pred_class}\")\n",
    "    return pred_class"
   ]
  },
  {
   "cell_type": "code",
   "execution_count": 17,
   "id": "666d9054",
   "metadata": {},
   "outputs": [
    {
     "name": "stdout",
     "output_type": "stream",
     "text": [
      "1/1 [==============================] - 0s 25ms/step\n"
     ]
    },
    {
     "data": {
      "image/png": "[encoded data removed]",
      "text/plain": [
       "<Figure size 432x288 with 1 Axes>"
      ]
     },
     "metadata": {
      "needs_background": "light"
     },
     "output_type": "display_data"
    }
   ],
   "source": [
    "class_name = pred_and_plot(model,'./dataset/test/c/c1.JPG12dim.jpg',train_data)"
   ]
  },
  {
   "cell_type": "code",
   "execution_count": null,
   "id": "00e227c4",
   "metadata": {},
   "outputs": [],
   "source": []
  },
  {
   "cell_type": "code",
   "execution_count": null,
   "id": "ece30a6a",
   "metadata": {},
   "outputs": [],
   "source": []
  }
 ],
 "metadata": {
  "kernelspec": {
   "display_name": "Python 3 (ipykernel)",
   "language": "python",
   "name": "python3"
  },
  "language_info": {
   "codemirror_mode": {
    "name": "ipython",
    "version": 3
   },
   "file_extension": ".py",
   "mimetype": "text/x-python",
   "name": "python",
   "nbconvert_exporter": "python",
   "pygments_lexer": "ipython3",
   "version": "3.9.7"
  }
 },
 "nbformat": 4,
 "nbformat_minor": 5
}
