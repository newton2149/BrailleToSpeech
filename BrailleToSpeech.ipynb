{
 "cells": [
  {
   "cell_type": "code",
   "execution_count": 10,
   "id": "83771114",
   "metadata": {},
   "outputs": [],
   "source": [
    "import tensorflow as tf\n",
    "from tensorflow.keras.utils import image_dataset_from_directory\n",
    "from tensorflow.keras.models import Sequential\n",
    "from tensorflow.keras import layers"
   ]
  },
  {
   "cell_type": "code",
   "execution_count": 21,
   "id": "368a94a4",
   "metadata": {},
   "outputs": [
    {
     "name": "stdout",
     "output_type": "stream",
     "text": [
      "Found 1248 files belonging to 26 classes.\n"
     ]
    }
   ],
   "source": [
    "train_dir = './dataset/train/'\n",
    "train_data = image_dataset_from_directory(train_dir,\n",
    "                                          seed=42,\n",
    "                                          batch_size=32,\n",
    "                                          label_mode='categorical',\n",
    "                                          image_size=(224,224))"
   ]
  },
  {
   "cell_type": "code",
   "execution_count": 13,
   "id": "f7dab8a8",
   "metadata": {},
   "outputs": [],
   "source": [
    "def create_model():\n",
    "    \n",
    "    \n",
    "    data_augmentation = Sequential([\n",
    "        layers.RandomFlip('horizontal'),\n",
    "        layers.RandomRotation(0.2),\n",
    "        layers.RandomHeight(0.2),\n",
    "        layers.RandomWidth(0.2),\n",
    "        layers.RandomZoom(0.2)\n",
    "    ],name='data_augmentation')\n",
    "    \n",
    "    \n",
    "    base_model = tf.keras.applications.EfficientNetB0(include_top=False)\n",
    "    base_model.trainable = True\n",
    "    \n",
    "    for layer in base_model.layers[:-20]:\n",
    "        layer.trainable = False\n",
    "        \n",
    "    inputs = layers.Input(shape=(224,224,3),name=\"Input Layer\")\n",
    "    z = data_augmentation(inputs)\n",
    "    z = base_model(z,training=False)\n",
    "    z = layers.GlobalAveragePooling2D()(z)\n",
    "    outputs = layers.Dense(26,activation=\"softmax\",name=\"output\")(z)\n",
    "    model = tf.keras.Model(inputs,outputs)\n",
    "    return model"
   ]
  },
  {
   "cell_type": "code",
   "execution_count": 14,
   "id": "a60ed487",
   "metadata": {},
   "outputs": [],
   "source": [
    "model = create_model()"
   ]
  },
  {
   "cell_type": "code",
   "execution_count": 15,
   "id": "bec4466c",
   "metadata": {},
   "outputs": [
    {
     "data": {
      "text/plain": [
       "<tensorflow.python.training.tracking.util.CheckpointLoadStatus at 0x7f946058c700>"
      ]
     },
     "execution_count": 15,
     "metadata": {},
     "output_type": "execute_result"
    }
   ],
   "source": [
    "model.load_weights('weights/')"
   ]
  },
  {
   "cell_type": "code",
   "execution_count": 16,
   "id": "b87d6a09",
   "metadata": {},
   "outputs": [],
   "source": [
    "def load_and_prep_img(filename , img_shape=224):\n",
    "    \n",
    "    \n",
    "    from tensorflow.keras.utils import load_img ,img_to_array\n",
    "    import numpy as np\n",
    "    import matplotlib.pyplot as plt\n",
    "    \n",
    "    \"\"\"\n",
    "    Reads an image from filename, turns it into a tensor and reshapes it to \n",
    "    (img_shape,img_shape,colour channels)\n",
    "    \n",
    "    \"\"\"\n",
    "    \n",
    "    test_img = load_img(filename,target_size=(img_shape,img_shape))\n",
    "    test_img = img_to_array(test_img)\n",
    "    \n",
    "    return test_img"
   ]
  },
  {
   "cell_type": "code",
   "execution_count": 17,
   "id": "888b2837",
   "metadata": {},
   "outputs": [],
   "source": [
    "def pred_and_plot(model,filename, train_data):\n",
    "    import matplotlib.pyplot as plt\n",
    "    img = load_and_prep_img(filename)\n",
    "    \n",
    "    pred = model.predict(tf.expand_dims(img,axis=0))\n",
    "    \n",
    "    if(len(pred[0]) > 1):\n",
    "        pred_class = train_data.class_names[tf.argmax(pred[0])]\n",
    "    else:\n",
    "        pred_class = train_data.class_names[int(tf.round(pred[0]))]\n",
    "        \n",
    "    \n",
    "    \n",
    "    \n",
    "    plt.imshow(img.astype('uint8'))\n",
    "    plt.title(f\"Prediction: {pred_class}\")\n",
    "    return pred_class"
   ]
  },
  {
   "cell_type": "code",
   "execution_count": 24,
   "id": "68f52abe",
   "metadata": {},
   "outputs": [
    {
     "name": "stdout",
     "output_type": "stream",
     "text": [
      "1/1 [==============================] - 0s 15ms/step\n"
     ]
    },
    {
     "data": {
      "image/png": "[encoded data removed]",
      "text/plain": [
       "<Figure size 432x288 with 1 Axes>"
      ]
     },
     "metadata": {
      "needs_background": "light"
     },
     "output_type": "display_data"
    }
   ],
   "source": [
    "class_name = pred_and_plot(model,'./dataset/test/c/c1.JPG0dim.jpg',train_data)"
   ]
  },
  {
   "cell_type": "code",
   "execution_count": 37,
   "id": "0e5eacb1",
   "metadata": {},
   "outputs": [
    {
     "name": "stdout",
     "output_type": "stream",
     "text": [
      "500\n"
     ]
    }
   ],
   "source": [
    "import pyttsx3\n",
    "engine = pyttsx3.init()\n",
    "rate = engine.getProperty('rate')   # getting details of current speaking rate\n",
    "print (rate)                        #printing current voice rate\n",
    "engine.setProperty('rate', 1)     # setting up new voice rate\n",
    "engine.say(f\"The predicted Braille is Alphabet {class_name}\")\n",
    "engine.runAndWait()\n"
   ]
  },
  {
   "cell_type": "code",
   "execution_count": 30,
   "id": "1ae4fe2b",
   "metadata": {},
   "outputs": [
    {
     "name": "stdout",
     "output_type": "stream",
     "text": [
      "error\n"
     ]
    }
   ],
   "source": []
  },
  {
   "cell_type": "code",
   "execution_count": null,
   "id": "a21861da",
   "metadata": {},
   "outputs": [],
   "source": []
  }
 ],
 "metadata": {
  "kernelspec": {
   "display_name": "Python 3 (ipykernel)",
   "language": "python",
   "name": "python3"
  },
  "language_info": {
   "codemirror_mode": {
    "name": "ipython",
    "version": 3
   },
   "file_extension": ".py",
   "mimetype": "text/x-python",
   "name": "python",
   "nbconvert_exporter": "python",
   "pygments_lexer": "ipython3",
   "version": "3.9.7"
  }
 },
 "nbformat": 4,
 "nbformat_minor": 5
}
